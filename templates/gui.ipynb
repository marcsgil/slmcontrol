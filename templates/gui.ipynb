{
 "cells": [
  {
   "cell_type": "code",
   "execution_count": 1,
   "metadata": {},
   "outputs": [],
   "source": [
    "from slm_loquff import *\n",
    "import ipywidgets as widgets\n",
    "from ipywidgets import interact\n",
    "import matplotlib.pyplot as plt\n",
    "import configparser\n",
    "\n",
    "slm = SLMdisplay(monitor=1)"
   ]
  },
  {
   "cell_type": "code",
   "execution_count": 2,
   "metadata": {},
   "outputs": [],
   "source": [
    "config_path = 'config.ini'\n",
    "config = configparser.ConfigParser()\n",
    "config.read(config_path)\n",
    "x,y = build_grid(config_path)\n",
    "input = hg(x,y,0,0,config['input'].getfloat('waist'))\n",
    "\n",
    "xperiod = widgets.BoundedFloatText(\n",
    "    value=config['grating'].getfloat('xperiod'),\n",
    "    min=.1,\n",
    "    max=10.0,\n",
    "    step=0.1,\n",
    "    description='x period',\n",
    "    disabled=False\n",
    ")\n",
    "\n",
    "yperiod = widgets.BoundedFloatText(\n",
    "    value=config['grating'].getfloat('yperiod'),\n",
    "    min=.1,\n",
    "    max=10.0,\n",
    "    step=0.1,\n",
    "    description='y period',\n",
    "    disabled=False\n",
    ")\n",
    "\n",
    "xoffset = widgets.BoundedIntText(\n",
    "    value=config['input'].getint('xoffset'),\n",
    "    min=-100,\n",
    "    max=100,\n",
    "    description='x offset',\n",
    "    disabled=False\n",
    ")\n",
    "\n",
    "yoffset = widgets.BoundedIntText(\n",
    "    value=config['input'].getint('yoffset'),\n",
    "    min=-100,\n",
    "    max=100,\n",
    "    description='y offset',\n",
    "    disabled=False\n",
    ")\n",
    "\n",
    "mode = widgets.Dropdown(\n",
    "    options=['Laguerre-Gauss', 'Hermite-Gauss', 'Diagonal Hermite-Gauss'],\n",
    "    value='Laguerre-Gauss',\n",
    "    description='Mode',\n",
    "    disabled=False,\n",
    ")\n",
    "\n",
    "method = widgets.Dropdown(\n",
    "    options=['bessel1', 'sinc'],\n",
    "    value='bessel1',\n",
    "    description='Algorithm',\n",
    "    disabled=False,\n",
    ")\n",
    "\n",
    "idx1 = widgets.BoundedIntText(\n",
    "    value=1,\n",
    "    min=-100,\n",
    "    max=100,\n",
    "    description='p (m)',\n",
    "    disabled=False\n",
    ")\n",
    "\n",
    "idx2 = widgets.BoundedIntText(\n",
    "    value=1,\n",
    "    min=-100,\n",
    "    max=100,\n",
    "    description='l (n)',\n",
    "    disabled=False\n",
    ")\n",
    "\n",
    "waist = widgets.BoundedFloatText(\n",
    "    value=0.5,\n",
    "    min=.01,\n",
    "    max=5.0,\n",
    "    step=0.01,\n",
    "    description='Waist',\n",
    "    disabled=False\n",
    ")\n",
    "\n",
    "def f(mode,idx1,idx2,waist,xperiod,yperiod,xoffset,yoffset,method):\n",
    "    if mode == 'Laguerre-Gauss':\n",
    "        desired = lg(config_path, idx1,idx2, waist)\n",
    "    elif mode == 'Hermite-Gauss':\n",
    "        desired = hg(config_path, idx1,idx2, waist)\n",
    "    elif mode == 'Diagonal Hermite-Gauss':\n",
    "        desired = diagonal_hg(config_path, idx1,idx2, waist)\n",
    "    else:\n",
    "        raise ValueError(\"Invalid mode.\")\n",
    "    holo = generate_hologram(desired,input,x,y,config['slm'].getint('max'),xperiod,yperiod,xoffset,yoffset,method=method)\n",
    "    slm.updateArray(holo)"
   ]
  },
  {
   "cell_type": "code",
   "execution_count": 3,
   "metadata": {},
   "outputs": [
    {
     "data": {
      "application/vnd.jupyter.widget-view+json": {
       "model_id": "cee87c1d63594c10adbb567dc06b3dbd",
       "version_major": 2,
       "version_minor": 0
      },
      "text/plain": [
       "interactive(children=(Dropdown(description='Mode', options=('Laguerre-Gauss', 'Hermite-Gauss', 'Diagonal Hermi…"
      ]
     },
     "metadata": {},
     "output_type": "display_data"
    }
   ],
   "source": [
    "interact(f,mode=mode,idx1=idx1,idx2=idx2,waist=waist,xperiod=xperiod,yperiod=yperiod,xoffset=xoffset,yoffset=yoffset,method=method);"
   ]
  },
  {
   "cell_type": "code",
   "execution_count": null,
   "metadata": {},
   "outputs": [],
   "source": []
  }
 ],
 "metadata": {
  "kernelspec": {
   "display_name": "LOQUFF",
   "language": "python",
   "name": "python3"
  },
  "language_info": {
   "codemirror_mode": {
    "name": "ipython",
    "version": 3
   },
   "file_extension": ".py",
   "mimetype": "text/x-python",
   "name": "python",
   "nbconvert_exporter": "python",
   "pygments_lexer": "ipython3",
   "version": "3.11.5"
  }
 },
 "nbformat": 4,
 "nbformat_minor": 2
}
